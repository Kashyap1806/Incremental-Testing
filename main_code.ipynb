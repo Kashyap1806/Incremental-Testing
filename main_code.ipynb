{
 "cells": [
  {
   "cell_type": "code",
   "execution_count": 1,
   "id": "ee996431-e427-49a0-b85f-f3965514b085",
   "metadata": {},
   "outputs": [
    {
     "name": "stdout",
     "output_type": "stream",
     "text": [
      "Pre/Post Revenue Summary:\n",
      " period      Post       Pre     Delta\n",
      "treated                             \n",
      "Control  102.896  99.37975   3.51625\n",
      "Treated  118.975  96.09250  22.88250 \n",
      "\n"
     ]
    }
   ],
   "source": [
    "import pandas as pd\n",
    "import statsmodels.formula.api as smf\n",
    "\n",
    "# 1. Load the provided dataset\n",
    "df = pd.read_csv(\"C:\\\\Users\\\\KShah1\\\\Downloads\\\\Incrementality Project\\\\Geo-Lift_Simulated_Dataset.csv\")\n",
    "\n",
    "# 2. Pre/Post revenue summary\n",
    "summary = (\n",
    "    df\n",
    "    .groupby(['treated', 'period'])['revenue']\n",
    "    .mean()\n",
    "    .reset_index()\n",
    "    .pivot(index='treated', columns='period', values='revenue')\n",
    "    .rename(index={0: 'Control', 1: 'Treated'})\n",
    ")\n",
    "summary['Delta'] = summary['Post'] - summary['Pre']\n",
    "print(\"Pre/Post Revenue Summary:\\n\", summary, \"\\n\")"
   ]
  },
  {
   "cell_type": "code",
   "execution_count": 4,
   "id": "47ea7cc0-d4a4-4f93-b1dc-a2573177db87",
   "metadata": {},
   "outputs": [
    {
     "name": "stdout",
     "output_type": "stream",
     "text": [
      "  state  week period  treated  revenue  post  treat_post\n",
      "0    CA     1    Pre        1   108.69     0           0\n",
      "1    CA     2    Pre        1   113.55     0           0\n",
      "2    CA     3    Pre        1   105.25     0           0\n",
      "3    CA     4    Pre        1   105.74     0           0\n",
      "4    CA     5    Pre        1   115.29     0           0\n",
      "19.366249999999976\n",
      "99.37975\n",
      "                            OLS Regression Results                            \n",
      "==============================================================================\n",
      "Dep. Variable:                revenue   R-squared:                       0.446\n",
      "Model:                            OLS   Adj. R-squared:                  0.432\n",
      "Method:                 Least Squares   F-statistic:                     96.83\n",
      "Date:                Tue, 05 Aug 2025   Prob (F-statistic):           3.61e-07\n",
      "Time:                        16:37:45   Log-Likelihood:                -430.97\n",
      "No. Observations:                 120   AIC:                             869.9\n",
      "Df Residuals:                     116   BIC:                             881.1\n",
      "Df Model:                           3                                         \n",
      "Covariance Type:              cluster                                         \n",
      "==============================================================================\n",
      "                 coef    std err          z      P>|z|      [0.025      0.975]\n",
      "------------------------------------------------------------------------------\n",
      "Intercept     99.3798      2.668     37.250      0.000      94.151     104.609\n",
      "treated       -3.2872      4.932     -0.667      0.505     -12.953       6.379\n",
      "post           3.5163      1.443      2.436      0.015       0.687       6.345\n",
      "treat_post    19.3662      2.116      9.152      0.000      15.219      23.514\n",
      "==============================================================================\n",
      "Omnibus:                        4.578   Durbin-Watson:                   0.765\n",
      "Prob(Omnibus):                  0.101   Jarque-Bera (JB):                2.456\n",
      "Skew:                          -0.036   Prob(JB):                        0.293\n",
      "Kurtosis:                       2.303   Cond. No.                         6.32\n",
      "==============================================================================\n",
      "\n",
      "Notes:\n",
      "[1] Standard Errors are robust to cluster correlation (cluster) \n",
      "\n",
      "DiD Coefficient (Incremental Lift): 19.37\n",
      "95% CI for Lift: [15.22, 23.51]\n",
      "Incremental Lift Percentage: 19.49%\n"
     ]
    }
   ],
   "source": [
    "# 3. Difference-in-Differences regression\n",
    "df['post'] = (df['period'] == 'Post').astype(int)\n",
    "df['treat_post'] = df['treated'] * df['post']\n",
    "\n",
    "print(df.head())\n",
    "\n",
    "model = smf.ols('revenue ~ treated + post + treat_post', data=df)\n",
    "result = model.fit(cov_type='cluster', cov_kwds={'groups': df['state']})\n",
    "\n",
    "# 4. Extract and display results\n",
    "did_coef = result.params['treat_post']\n",
    "ci_lower, ci_upper = result.conf_int().loc['treat_post']\n",
    "\n",
    "\n",
    "control_pre_mean = summary.loc['Control', 'Pre']\n",
    "lift_pct = (did_coef / control_pre_mean) * 100\n",
    "\n",
    "print(did_coef)\n",
    "print(control_pre_mean)\n",
    "\n",
    "print(result.summary(), \"\\n\")\n",
    "print(f\"DiD Coefficient (Incremental Lift): {did_coef:.2f}\")\n",
    "print(f\"95% CI for Lift: [{ci_lower:.2f}, {ci_upper:.2f}]\")\n",
    "print(f\"Incremental Lift Percentage: {lift_pct:.2f}%\")"
   ]
  },
  {
   "cell_type": "code",
   "execution_count": null,
   "id": "857c400c-7dc6-4185-8322-bad5c57ab21d",
   "metadata": {},
   "outputs": [],
   "source": []
  }
 ],
 "metadata": {
  "kernelspec": {
   "display_name": "Python 3 (ipykernel)",
   "language": "python",
   "name": "python3"
  },
  "language_info": {
   "codemirror_mode": {
    "name": "ipython",
    "version": 3
   },
   "file_extension": ".py",
   "mimetype": "text/x-python",
   "name": "python",
   "nbconvert_exporter": "python",
   "pygments_lexer": "ipython3",
   "version": "3.13.3"
  }
 },
 "nbformat": 4,
 "nbformat_minor": 5
}
